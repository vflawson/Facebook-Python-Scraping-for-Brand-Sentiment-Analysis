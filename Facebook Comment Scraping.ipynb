{
 "cells": [
  {
   "cell_type": "markdown",
   "id": "c0979598",
   "metadata": {},
   "source": [
    "#### Scraping comments from Facebook posts from Toyota's official Facebook page. I scraped comments from posts in the first 25 pages of the official Facebook page"
   ]
  },
  {
   "cell_type": "markdown",
   "id": "4e69f2f1",
   "metadata": {},
   "source": [
    "#### Installing and importing packages "
   ]
  },
  {
   "cell_type": "code",
   "execution_count": null,
   "id": "56ff8cd4",
   "metadata": {},
   "outputs": [],
   "source": [
    "pip install facebook_scraper"
   ]
  },
  {
   "cell_type": "code",
   "execution_count": null,
   "id": "db6b645b",
   "metadata": {},
   "outputs": [],
   "source": [
    "from facebook_scraper import get_posts\n",
    "import pandas as pd"
   ]
  },
  {
   "cell_type": "markdown",
   "id": "af5e27c3",
   "metadata": {},
   "source": [
    "#### Comment scraping from Toyota's official facebook page (first 25 pages)"
   ]
  },
  {
   "cell_type": "code",
   "execution_count": null,
   "id": "ae820d3f",
   "metadata": {},
   "outputs": [],
   "source": [
    "post_df_full=pd.DataFrame()\n",
    "for post in get_posts('TOYOTA.Global',cookies='facebook.com_cookies.txt',extra_info=True, pages=25,options={\"comments\": True, \"reactors\": True, \"progress\": True}):\n",
    "    post_entry=post\n",
    "    fb_post_df=pd.DataFrame.from_dict(post_entry,orient='index')\n",
    "    fb_post_df=fb_post_df.transpose()\n",
    "    post_df_full=post_df_full.append(fb_post_df)"
   ]
  },
  {
   "cell_type": "code",
   "execution_count": null,
   "id": "c986f086",
   "metadata": {},
   "outputs": [],
   "source": [
    "facebook_raw=pd.DataFrame(post_df_full[\"comments_full\"])"
   ]
  },
  {
   "cell_type": "code",
   "execution_count": null,
   "id": "7260919a",
   "metadata": {},
   "outputs": [],
   "source": [
    "facebook_raw.rename(columns={\"comments_full\": \"comment\"},inplace=True)"
   ]
  },
  {
   "cell_type": "code",
   "execution_count": null,
   "id": "2d39f127",
   "metadata": {},
   "outputs": [],
   "source": [
    "facebook_raw.reset_index(drop=True,inplace=True)"
   ]
  },
  {
   "cell_type": "markdown",
   "id": "37b4d05d",
   "metadata": {},
   "source": [
    "#### Counting total number of comments scraped"
   ]
  },
  {
   "cell_type": "code",
   "execution_count": null,
   "id": "f01692c0",
   "metadata": {},
   "outputs": [],
   "source": [
    "sum=0\n",
    "for i in facebook_raw[\"comment\"]:\n",
    "    sum=sum+len(i)"
   ]
  },
  {
   "cell_type": "code",
   "execution_count": null,
   "id": "8f35eace",
   "metadata": {},
   "outputs": [],
   "source": [
    "sum"
   ]
  },
  {
   "cell_type": "markdown",
   "id": "175db8cb",
   "metadata": {},
   "source": [
    "#### Concatenating scraped comments in list and converting to df"
   ]
  },
  {
   "cell_type": "code",
   "execution_count": null,
   "id": "67909f14",
   "metadata": {},
   "outputs": [],
   "source": [
    "facebook=[]\n",
    "for i in range(len(facebook_raw[\"comment\"])):\n",
    "    l=len(facebook_raw[\"comment\"][i])\n",
    "    for j in range(l):\n",
    "        facebook.append(facebook_raw[\"comment\"][i][j][\"comment_text\"])"
   ]
  },
  {
   "cell_type": "code",
   "execution_count": null,
   "id": "1cb211f9",
   "metadata": {},
   "outputs": [],
   "source": [
    "facebook=pd.DataFrame(facebook,columns=[\"comment\"])\n",
    "facebook"
   ]
  },
  {
   "cell_type": "code",
   "execution_count": null,
   "id": "b449ae34",
   "metadata": {},
   "outputs": [],
   "source": [
    "facebook.to_csv(\"facebook.csv\")"
   ]
  }
 ],
 "metadata": {
  "kernelspec": {
   "display_name": "Python 3",
   "language": "python",
   "name": "python3"
  },
  "language_info": {
   "codemirror_mode": {
    "name": "ipython",
    "version": 3
   },
   "file_extension": ".py",
   "mimetype": "text/x-python",
   "name": "python",
   "nbconvert_exporter": "python",
   "pygments_lexer": "ipython3",
   "version": "3.8.8"
  }
 },
 "nbformat": 4,
 "nbformat_minor": 5
}
